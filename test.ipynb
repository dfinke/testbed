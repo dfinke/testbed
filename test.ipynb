{
    "metadata": {
        "kernelspec": {
            "name": "powershell",
            "display_name": "PowerShell"
        },
        "language_info": {
            "name": "powershell",
            "codemirror_mode": "shell",
            "mimetype": "text/x-sh",
            "file_extension": ".ps1"
        }
    },
    "nbformat_minor": 2,
    "nbformat": 4,
    "cells": [
        {"cell_type":"markdown","metadata":{},"source":["# Chapter 1"]},{"cell_type":"markdown","metadata":{},"source":["stuff\r\n\r\n"]},{
    "cell_type":  "code",
    "source":  [
                   "foreach ($item in 1..10) {\r\n    $item\r\n}\r\n"
               ],
    "metadata":  {
                     "azdata_cell_guid":  "82444c34-4073-40e2-8b54-8650d15da3c9"
                 },
    "outputs":  [
                    {
                        "name":  "stdout",
                        "output_type":  "stream",
                        "text":  "1\r\n2\r\n3\r\n4\r\n5\r\n6\r\n7\r\n8\r\n9\r\n10\r\n"
                    }
                ]
},{"cell_type":"markdown","metadata":{},"source":["\r\n##  More Stuff\r\n"]},{
    "cell_type":  "code",
    "source":  [
                   "foreach ($item in 1..10) {\r\n    $item*2\r\n}\r\n"
               ],
    "metadata":  {
                     "azdata_cell_guid":  "09f528a0-fa68-464a-89a7-d877de03f01c"
                 },
    "outputs":  [
                    {
                        "name":  "stdout",
                        "output_type":  "stream",
                        "text":  "2\r\n4\r\n6\r\n8\r\n10\r\n12\r\n14\r\n16\r\n18\r\n20\r\n"
                    }
                ]
}
    ]
}
