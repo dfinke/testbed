{
 "cells": [
  {
   "cell_type": "code",
   "execution_count": 1,
   "metadata": {},
   "outputs": [],
   "source": [
    "function quickConvert {\n",
    "    param(\n",
    "        [Parameter(valuefrompipeline)]\n",
    "        $target\n",
    "    )\n",
    "    \n",
    "    Process {\n",
    "        ($target | ConvertFrom-Markdown).html | Get-HtmlContent | Out-Display\n",
    "    }\n",
    "}"
   ]
  },
  {
   "cell_type": "code",
   "execution_count": 2,
   "metadata": {},
   "outputs": [
    {
     "data": {
      "text/html": [
       "<h2 id=\"greek-letters\">Greek Letters</h2>\n"
      ]
     },
     "metadata": {},
     "output_type": "display_data"
    },
    {
     "data": {
      "text/html": [
       "<p><span class=\"math\">\\(\\alpha\\)</span></p>\n"
      ]
     },
     "metadata": {},
     "output_type": "display_data"
    },
    {
     "data": {
      "text/html": [
       "<p><span class=\"math\">\\(A\\)</span></p>\n"
      ]
     },
     "metadata": {},
     "output_type": "display_data"
    },
    {
     "data": {
      "text/html": [
       "<p><span class=\"math\">\\(\\beta\\)</span></p>\n"
      ]
     },
     "metadata": {},
     "output_type": "display_data"
    },
    {
     "data": {
      "text/html": [
       "<p><span class=\"math\">\\(B\\)</span></p>\n"
      ]
     },
     "metadata": {},
     "output_type": "display_data"
    },
    {
     "data": {
      "text/html": [
       "<p><span class=\"math\">\\(\\gamma\\)</span></p>\n"
      ]
     },
     "metadata": {},
     "output_type": "display_data"
    },
    {
     "data": {
      "text/html": [
       "<p><span class=\"math\">\\(\\Gamma\\)</span></p>\n"
      ]
     },
     "metadata": {},
     "output_type": "display_data"
    },
    {
     "data": {
      "text/html": [
       "<p><span class=\"math\">\\(\\pi\\)</span></p>\n"
      ]
     },
     "metadata": {},
     "output_type": "display_data"
    },
    {
     "data": {
      "text/html": [
       "<p><span class=\"math\">\\(\\Pi\\)</span></p>\n"
      ]
     },
     "metadata": {},
     "output_type": "display_data"
    },
    {
     "data": {
      "text/html": [
       "<p><span class=\"math\">\\(\\phi\\)</span></p>\n"
      ]
     },
     "metadata": {},
     "output_type": "display_data"
    },
    {
     "data": {
      "text/html": [
       "<p><span class=\"math\">\\(\\Phi\\)</span></p>\n"
      ]
     },
     "metadata": {},
     "output_type": "display_data"
    },
    {
     "data": {
      "text/html": [
       "<p><span class=\"math\">\\(\\varphi\\)</span></p>\n"
      ]
     },
     "metadata": {},
     "output_type": "display_data"
    },
    {
     "data": {
      "text/html": [
       "<p><span class=\"math\">\\(\\theta\\)</span></p>\n"
      ]
     },
     "metadata": {},
     "output_type": "display_data"
    }
   ],
   "source": [
    "$(\n",
    "'## Greek Letters'\n",
    "'$\\alpha$'\n",
    "'$A$'\n",
    "'$\\beta$'\n",
    "'$B$'\n",
    "'$\\gamma$'\n",
    "'$\\Gamma$'\n",
    "'$\\pi$'\n",
    "'$\\Pi$'\n",
    "'$\\phi$'\n",
    "'$\\Phi$'\n",
    "'$\\varphi$'\n",
    "'$\\theta$'\n",
    ") | quickconvert"
   ]
  },
  {
   "cell_type": "code",
   "execution_count": 3,
   "metadata": {},
   "outputs": [
    {
     "data": {
      "text/html": [
       "<h2 id=\"operators\">Operators</h2>\n"
      ]
     },
     "metadata": {},
     "output_type": "display_data"
    },
    {
     "data": {
      "text/html": [
       "<p><span class=\"math\">\\(\\cos\\)</span></p>\n"
      ]
     },
     "metadata": {},
     "output_type": "display_data"
    },
    {
     "data": {
      "text/html": [
       "<p><span class=\"math\">\\(\\sin\\)</span></p>\n"
      ]
     },
     "metadata": {},
     "output_type": "display_data"
    },
    {
     "data": {
      "text/html": [
       "<p><span class=\"math\">\\(\\lim\\)</span></p>\n"
      ]
     },
     "metadata": {},
     "output_type": "display_data"
    },
    {
     "data": {
      "text/html": [
       "<p><span class=\"math\">\\(\\exp\\)</span></p>\n"
      ]
     },
     "metadata": {},
     "output_type": "display_data"
    },
    {
     "data": {
      "text/html": [
       "<p><span class=\"math\">\\(\\to\\)</span></p>\n"
      ]
     },
     "metadata": {},
     "output_type": "display_data"
    },
    {
     "data": {
      "text/html": [
       "<p><span class=\"math\">\\(\\infty\\)</span></p>\n"
      ]
     },
     "metadata": {},
     "output_type": "display_data"
    },
    {
     "data": {
      "text/html": [
       "<p><span class=\"math\">\\(\\equiv\\)</span></p>\n"
      ]
     },
     "metadata": {},
     "output_type": "display_data"
    },
    {
     "data": {
      "text/html": [
       "<p><span class=\"math\">\\(\\bmod\\)</span></p>\n"
      ]
     },
     "metadata": {},
     "output_type": "display_data"
    },
    {
     "data": {
      "text/html": [
       "<p><span class=\"math\">\\(\\times\\)</span></p>\n"
      ]
     },
     "metadata": {},
     "output_type": "display_data"
    }
   ],
   "source": [
    "$(\n",
    "'## Operators'\n",
    "'$\\cos$'\n",
    "'$\\sin$'\n",
    "'$\\lim$'\n",
    "'$\\exp$'\n",
    "'$\\to$'\n",
    "'$\\infty$'\n",
    "'$\\equiv$'\n",
    "'$\\bmod$'\n",
    "'$\\times$'\n",
    ") | quickconvert"
   ]
  },
  {
   "cell_type": "code",
   "execution_count": 4,
   "metadata": {},
   "outputs": [
    {
     "data": {
      "text/html": [
       "<h2 id=\"fractions-and-binomials\">Fractions and Binomials</h2>\n"
      ]
     },
     "metadata": {},
     "output_type": "display_data"
    },
    {
     "data": {
      "text/html": [
       "<p><span class=\"math\">\\(\\frac{n!}{k!(n-k)!}\\)</span></p>\n"
      ]
     },
     "metadata": {},
     "output_type": "display_data"
    },
    {
     "data": {
      "text/html": [
       "<p><span class=\"math\">\\(\\binom{n}{k}\\)</span></p>\n"
      ]
     },
     "metadata": {},
     "output_type": "display_data"
    },
    {
     "data": {
      "text/html": [
       "<p><span class=\"math\">\\(\\frac{\\frac{x}{1}}{x - y}\\)</span></p>\n"
      ]
     },
     "metadata": {},
     "output_type": "display_data"
    },
    {
     "data": {
      "text/html": [
       "<p><span class=\"math\">\\(^3/_7\\)</span></p>\n"
      ]
     },
     "metadata": {},
     "output_type": "display_data"
    }
   ],
   "source": [
    "$(\n",
    "'## Fractions and Binomials'\n",
    "'$\\frac{n!}{k!(n-k)!}$'\n",
    "'$\\binom{n}{k}$'\n",
    "'$\\frac{\\frac{x}{1}}{x - y}$'\n",
    "'$^3/_7$'\n",
    ") | quickconvert\n"
   ]
  },
  {
   "cell_type": "code",
   "execution_count": 5,
   "metadata": {},
   "outputs": [
    {
     "data": {
      "text/html": [
       "<h2 id=\"sums-and-integrals\">Sums and Integrals</h2>\n"
      ]
     },
     "metadata": {},
     "output_type": "display_data"
    },
    {
     "data": {
      "text/html": [
       "<p><span class=\"math\">\\(\\sum_ { i=1 }^ { 10 } t_i\\)</span></p>\n"
      ]
     },
     "metadata": {},
     "output_type": "display_data"
    },
    {
     "data": {
      "text/html": [
       "<p><span class=\"math\">\\(\\int_0^\\infty \\mathrm { e }^ { -x }\\, \\mathrm { d }x\\)</span></p>\n"
      ]
     },
     "metadata": {},
     "output_type": "display_data"
    },
    {
     "data": {
      "text/html": [
       "<p><span class=\"math\">\\(\\sum\\)</span></p>\n"
      ]
     },
     "metadata": {},
     "output_type": "display_data"
    },
    {
     "data": {
      "text/html": [
       "<p><span class=\"math\">\\(\\prod\\)</span></p>\n"
      ]
     },
     "metadata": {},
     "output_type": "display_data"
    },
    {
     "data": {
      "text/html": [
       "<p><span class=\"math\">\\(\\coprod\\)</span></p>\n"
      ]
     },
     "metadata": {},
     "output_type": "display_data"
    },
    {
     "data": {
      "text/html": [
       "<p><span class=\"math\">\\(\\bigoplus\\)</span></p>\n"
      ]
     },
     "metadata": {},
     "output_type": "display_data"
    },
    {
     "data": {
      "text/html": [
       "<p><span class=\"math\">\\(\\bigotimes\\)</span></p>\n"
      ]
     },
     "metadata": {},
     "output_type": "display_data"
    },
    {
     "data": {
      "text/html": [
       "<p><span class=\"math\">\\(\\bigodot\\)</span></p>\n"
      ]
     },
     "metadata": {},
     "output_type": "display_data"
    },
    {
     "data": {
      "text/html": [
       "<p><span class=\"math\">\\(\\bigcup\\)</span></p>\n"
      ]
     },
     "metadata": {},
     "output_type": "display_data"
    },
    {
     "data": {
      "text/html": [
       "<p><span class=\"math\">\\(\\bigcap\\)</span></p>\n"
      ]
     },
     "metadata": {},
     "output_type": "display_data"
    },
    {
     "data": {
      "text/html": [
       "<p><span class=\"math\">\\(\\biguplus\\)</span></p>\n"
      ]
     },
     "metadata": {},
     "output_type": "display_data"
    },
    {
     "data": {
      "text/html": [
       "<p><span class=\"math\">\\(\\bigsqcup\\)</span></p>\n"
      ]
     },
     "metadata": {},
     "output_type": "display_data"
    },
    {
     "data": {
      "text/html": [
       "<p><span class=\"math\">\\(\\bigvee\\)</span></p>\n"
      ]
     },
     "metadata": {},
     "output_type": "display_data"
    },
    {
     "data": {
      "text/html": [
       "<p><span class=\"math\">\\(\\bigwedge\\)</span></p>\n"
      ]
     },
     "metadata": {},
     "output_type": "display_data"
    },
    {
     "data": {
      "text/html": [
       "<p><span class=\"math\">\\(\\int\\)</span></p>\n"
      ]
     },
     "metadata": {},
     "output_type": "display_data"
    },
    {
     "data": {
      "text/html": [
       "<p><span class=\"math\">\\(\\oint\\)</span></p>\n"
      ]
     },
     "metadata": {},
     "output_type": "display_data"
    },
    {
     "data": {
      "text/html": [
       "<p><span class=\"math\">\\(\\iint\\)</span></p>\n"
      ]
     },
     "metadata": {},
     "output_type": "display_data"
    },
    {
     "data": {
      "text/html": [
       "<p><span class=\"math\">\\(\\iiint\\)</span></p>\n"
      ]
     },
     "metadata": {},
     "output_type": "display_data"
    },
    {
     "data": {
      "text/html": [
       "<p><span class=\"math\">\\(\\idotsint\\)</span></p>\n"
      ]
     },
     "metadata": {},
     "output_type": "display_data"
    },
    {
     "data": {
      "text/html": [
       "<p><span class=\"math\">\\(\\sum_ { \\substack { 0&lt;i&lt;m\\0&lt;j&lt;n } } P(i, j)\\)</span></p>\n"
      ]
     },
     "metadata": {},
     "output_type": "display_data"
    },
    {
     "data": {
      "text/html": [
       "<p><span class=\"math\">\\(\\int\\limits_a^b\\)</span></p>\n"
      ]
     },
     "metadata": {},
     "output_type": "display_data"
    }
   ],
   "source": [
    "$(\n",
    "'## Sums and Integrals'\n",
    "'$\\sum_ { i=1 }^ { 10 } t_i$'\n",
    "'$\\int_0^\\infty \\mathrm { e }^ { -x }\\, \\mathrm { d }x$'\n",
    "'$\\sum$'\n",
    "'$\\prod$'\n",
    "'$\\coprod$'\n",
    "'$\\bigoplus$'\n",
    "'$\\bigotimes$'\n",
    "'$\\bigodot$'\n",
    "'$\\bigcup$'\n",
    "'$\\bigcap$'\n",
    "'$\\biguplus$'\n",
    "'$\\bigsqcup$'\n",
    "'$\\bigvee$'\n",
    "'$\\bigwedge$'\n",
    "'$\\int$'\n",
    "'$\\oint$'\n",
    "'$\\iint$'\n",
    "'$\\iiint$'\n",
    "'$\\idotsint$'\n",
    "'$\\sum_ { \\substack { 0<i<m\\0<j<n } } P(i, j)$'\n",
    "'$\\int\\limits_a^b$'\n",
    ") | quickconvert\n"
   ]
  },
  {
   "cell_type": "code",
   "execution_count": 6,
   "metadata": {},
   "outputs": [
    {
     "data": {
      "text/html": [
       "<p><span class=\"math\">\\(\\hat{a}\\)</span></p>\n"
      ]
     },
     "metadata": {},
     "output_type": "display_data"
    },
    {
     "data": {
      "text/html": [
       "<p><span class=\"math\">\\(\\bar{a}\\)</span></p>\n"
      ]
     },
     "metadata": {},
     "output_type": "display_data"
    },
    {
     "data": {
      "text/html": [
       "<p><span class=\"math\">\\(\\grave{a}\\)</span></p>\n"
      ]
     },
     "metadata": {},
     "output_type": "display_data"
    },
    {
     "data": {
      "text/html": [
       "<p><span class=\"math\">\\(\\acute{a}\\)</span></p>\n"
      ]
     },
     "metadata": {},
     "output_type": "display_data"
    },
    {
     "data": {
      "text/html": [
       "<p><span class=\"math\">\\(\\dot{a}\\)</span></p>\n"
      ]
     },
     "metadata": {},
     "output_type": "display_data"
    },
    {
     "data": {
      "text/html": [
       "<p><span class=\"math\">\\(\\ddot{a}\\)</span></p>\n"
      ]
     },
     "metadata": {},
     "output_type": "display_data"
    },
    {
     "data": {
      "text/html": [
       "<p><span class=\"math\">\\(\\not{a}\\)</span></p>\n"
      ]
     },
     "metadata": {},
     "output_type": "display_data"
    },
    {
     "data": {
      "text/html": [
       "<p><span class=\"math\">\\(\\mathring{a}\\)</span></p>\n"
      ]
     },
     "metadata": {},
     "output_type": "display_data"
    },
    {
     "data": {
      "text/html": [
       "<p><span class=\"math\">\\(\\overrightarrow{AB}\\)</span></p>\n"
      ]
     },
     "metadata": {},
     "output_type": "display_data"
    },
    {
     "data": {
      "text/html": [
       "<p><span class=\"math\">\\(\\overleftarrow{AB}\\)</span></p>\n"
      ]
     },
     "metadata": {},
     "output_type": "display_data"
    },
    {
     "data": {
      "text/html": [
       "<p><span class=\"math\">\\(\\overline { aaa }\\)</span></p>\n"
      ]
     },
     "metadata": {},
     "output_type": "display_data"
    },
    {
     "data": {
      "text/html": [
       "<p><span class=\"math\">\\(\\check { a }\\)</span></p>\n"
      ]
     },
     "metadata": {},
     "output_type": "display_data"
    },
    {
     "data": {
      "text/html": [
       "<p><span class=\"math\">\\(\\vec { a }\\)</span></p>\n"
      ]
     },
     "metadata": {},
     "output_type": "display_data"
    },
    {
     "data": {
      "text/html": [
       "<p><span class=\"math\">\\(\\underline { a }\\)</span></p>\n"
      ]
     },
     "metadata": {},
     "output_type": "display_data"
    },
    {
     "data": {
      "text/html": [
       "<p><span class=\"math\">\\(\\color { red }x\\)</span></p>\n"
      ]
     },
     "metadata": {},
     "output_type": "display_data"
    },
    {
     "data": {
      "text/html": [
       "<p><span class=\"math\">\\(\\pm\\)</span></p>\n"
      ]
     },
     "metadata": {},
     "output_type": "display_data"
    },
    {
     "data": {
      "text/html": [
       "<p><span class=\"math\">\\(\\mp\\)</span></p>\n"
      ]
     },
     "metadata": {},
     "output_type": "display_data"
    },
    {
     "data": {
      "text/html": [
       "<p><span class=\"math\">\\(\\int y \\mathrm { d }x\\)</span></p>\n"
      ]
     },
     "metadata": {},
     "output_type": "display_data"
    },
    {
     "data": {
      "text/html": [
       "<p>$, $</p>\n"
      ]
     },
     "metadata": {},
     "output_type": "display_data"
    },
    {
     "data": {
      "text/html": [
       "<p><span class=\"math\">\\(\\:\\)</span></p>\n"
      ]
     },
     "metadata": {},
     "output_type": "display_data"
    },
    {
     "data": {
      "text/html": [
       "<p>$; $</p>\n"
      ]
     },
     "metadata": {},
     "output_type": "display_data"
    },
    {
     "data": {
      "text/html": [
       "<p><span class=\"math\">\\(!\\)</span></p>\n"
      ]
     },
     "metadata": {},
     "output_type": "display_data"
    },
    {
     "data": {
      "text/html": [
       "<p><span class=\"math\">\\(\\int y\\, \\mathrm { d }x\\)</span></p>\n"
      ]
     },
     "metadata": {},
     "output_type": "display_data"
    },
    {
     "data": {
      "text/html": [
       "<p><span class=\"math\">\\(\\dots\\)</span></p>\n"
      ]
     },
     "metadata": {},
     "output_type": "display_data"
    },
    {
     "data": {
      "text/html": [
       "<p><span class=\"math\">\\(\\ldots\\)</span></p>\n"
      ]
     },
     "metadata": {},
     "output_type": "display_data"
    },
    {
     "data": {
      "text/html": [
       "<p><span class=\"math\">\\(\\cdots\\)</span></p>\n"
      ]
     },
     "metadata": {},
     "output_type": "display_data"
    },
    {
     "data": {
      "text/html": [
       "<p><span class=\"math\">\\(\\vdots\\)</span></p>\n"
      ]
     },
     "metadata": {},
     "output_type": "display_data"
    },
    {
     "data": {
      "text/html": [
       "<p><span class=\"math\">\\(\\ddots\\)</span></p>\n"
      ]
     },
     "metadata": {},
     "output_type": "display_data"
    }
   ],
   "source": [
    "$(\n",
    "'$\\hat{a}$'\n",
    "'$\\bar{a}$'\n",
    "'$\\grave{a}$'\n",
    "'$\\acute{a}$'\n",
    "'$\\dot{a}$'\n",
    "'$\\ddot{a}$'\n",
    "'$\\not{a}$'\n",
    "'$\\mathring{a}$'\n",
    "'$\\overrightarrow{AB}$'\n",
    "'$\\overleftarrow{AB}$'\n",
    "'$\\overline { aaa }$'\n",
    "'$\\check { a }$'\n",
    "'$\\vec { a }$'\n",
    "'$\\underline { a }$'\n",
    "'$\\color { red }x$'\n",
    "'$\\pm$'\n",
    "'$\\mp$'\n",
    "'$\\int y \\mathrm { d }x$'\n",
    "'$\\, $'\n",
    "'$\\:$'\n",
    "'$\\; $'\n",
    "'$!$'\n",
    "'$\\int y\\, \\mathrm { d }x$'\n",
    "'$\\dots$'\n",
    "'$\\ldots$'\n",
    "'$\\cdots$'\n",
    "'$\\vdots$'\n",
    "'$\\ddots$'\n",
    ") | quickconvert\n"
   ]
  },
  {
   "cell_type": "code",
   "execution_count": 7,
   "metadata": {},
   "outputs": [
    {
     "data": {
      "text/html": [
       "<h2 id=\"brackets-etc\">Brackets etc</h2>\n"
      ]
     },
     "metadata": {},
     "output_type": "display_data"
    },
    {
     "data": {
      "text/html": [
       "<p><span class=\"math\">\\((a)\\)</span></p>\n"
      ]
     },
     "metadata": {},
     "output_type": "display_data"
    },
    {
     "data": {
      "text/html": [
       "<p><span class=\"math\">\\([a]\\)</span></p>\n"
      ]
     },
     "metadata": {},
     "output_type": "display_data"
    },
    {
     "data": {
      "text/html": [
       "<p><span class=\"math\">\\({a}\\)</span></p>\n"
      ]
     },
     "metadata": {},
     "output_type": "display_data"
    },
    {
     "data": {
      "text/html": [
       "<p><span class=\"math\">\\(\\langle f \\rangle\\)</span></p>\n"
      ]
     },
     "metadata": {},
     "output_type": "display_data"
    },
    {
     "data": {
      "text/html": [
       "<p><span class=\"math\">\\(\\lfloor f \\rfloor\\)</span></p>\n"
      ]
     },
     "metadata": {},
     "output_type": "display_data"
    },
    {
     "data": {
      "text/html": [
       "<p><span class=\"math\">\\(\\lceil f \\rceil\\)</span></p>\n"
      ]
     },
     "metadata": {},
     "output_type": "display_data"
    },
    {
     "data": {
      "text/html": [
       "<p><span class=\"math\">\\(\\ulcorner f \\urcorner\\)</span></p>\n"
      ]
     },
     "metadata": {},
     "output_type": "display_data"
    }
   ],
   "source": [
    "$(\n",
    "'## Brackets etc'\n",
    "'$(a)$'\n",
    "'$[a]$'\n",
    "'${a}$'\n",
    "'$\\langle f \\rangle$'\n",
    "'$\\lfloor f \\rfloor$'\n",
    "'$\\lceil f \\rceil$'\n",
    "'$\\ulcorner f \\urcorner$'\n",
    ") | quickconvert"
   ]
  }
 ],
 "metadata": {
  "kernelspec": {
   "display_name": ".NET (PowerShell)",
   "language": "PowerShell",
   "name": ".net-powershell"
  },
  "language_info": {
   "file_extension": ".ps1",
   "mimetype": "text/x-powershell",
   "name": "PowerShell",
   "pygments_lexer": "powershell",
   "version": "7.0"
  }
 },
 "nbformat": 4,
 "nbformat_minor": 4
}
